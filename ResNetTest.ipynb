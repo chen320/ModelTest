{
  "nbformat": 4,
  "nbformat_minor": 0,
  "metadata": {
    "colab": {
      "name": "ResNetTest.ipynb",
      "provenance": [],
      "collapsed_sections": [],
      "authorship_tag": "ABX9TyMhZrFm0x6BqxdQGiLhJvV8",
      "include_colab_link": true
    },
    "kernelspec": {
      "name": "python3",
      "display_name": "Python 3"
    },
    "language_info": {
      "name": "python"
    },
    "widgets": {
      "application/vnd.jupyter.widget-state+json": {
        "e203f4f8d4074782817e815bd54b712c": {
          "model_module": "@jupyter-widgets/controls",
          "model_name": "HBoxModel",
          "model_module_version": "1.5.0",
          "state": {
            "_view_name": "HBoxView",
            "_dom_classes": [],
            "_model_name": "HBoxModel",
            "_view_module": "@jupyter-widgets/controls",
            "_model_module_version": "1.5.0",
            "_view_count": null,
            "_view_module_version": "1.5.0",
            "box_style": "",
            "layout": "IPY_MODEL_ab25570808fc4f64acc0dafec30b0550",
            "_model_module": "@jupyter-widgets/controls",
            "children": [
              "IPY_MODEL_7bf3145a588e4c98b5917ce73d26ebd6",
              "IPY_MODEL_89bf8455ca134f53b80625c201684ee8",
              "IPY_MODEL_158d271338504ab0988bd117f2f90c78"
            ]
          }
        },
        "ab25570808fc4f64acc0dafec30b0550": {
          "model_module": "@jupyter-widgets/base",
          "model_name": "LayoutModel",
          "model_module_version": "1.2.0",
          "state": {
            "_view_name": "LayoutView",
            "grid_template_rows": null,
            "right": null,
            "justify_content": null,
            "_view_module": "@jupyter-widgets/base",
            "overflow": null,
            "_model_module_version": "1.2.0",
            "_view_count": null,
            "flex_flow": null,
            "width": null,
            "min_width": null,
            "border": null,
            "align_items": null,
            "bottom": null,
            "_model_module": "@jupyter-widgets/base",
            "top": null,
            "grid_column": null,
            "overflow_y": null,
            "overflow_x": null,
            "grid_auto_flow": null,
            "grid_area": null,
            "grid_template_columns": null,
            "flex": null,
            "_model_name": "LayoutModel",
            "justify_items": null,
            "grid_row": null,
            "max_height": null,
            "align_content": null,
            "visibility": null,
            "align_self": null,
            "height": null,
            "min_height": null,
            "padding": null,
            "grid_auto_rows": null,
            "grid_gap": null,
            "max_width": null,
            "order": null,
            "_view_module_version": "1.2.0",
            "grid_template_areas": null,
            "object_position": null,
            "object_fit": null,
            "grid_auto_columns": null,
            "margin": null,
            "display": null,
            "left": null
          }
        },
        "7bf3145a588e4c98b5917ce73d26ebd6": {
          "model_module": "@jupyter-widgets/controls",
          "model_name": "HTMLModel",
          "model_module_version": "1.5.0",
          "state": {
            "_view_name": "HTMLView",
            "style": "IPY_MODEL_b7ce274414c745b49f631ff5419fa725",
            "_dom_classes": [],
            "description": "",
            "_model_name": "HTMLModel",
            "placeholder": "​",
            "_view_module": "@jupyter-widgets/controls",
            "_model_module_version": "1.5.0",
            "value": "",
            "_view_count": null,
            "_view_module_version": "1.5.0",
            "description_tooltip": null,
            "_model_module": "@jupyter-widgets/controls",
            "layout": "IPY_MODEL_2acfdb2284944b8a917132f18aa7a098"
          }
        },
        "89bf8455ca134f53b80625c201684ee8": {
          "model_module": "@jupyter-widgets/controls",
          "model_name": "FloatProgressModel",
          "model_module_version": "1.5.0",
          "state": {
            "_view_name": "ProgressView",
            "style": "IPY_MODEL_cd71189a40554055a05bcee506abd47d",
            "_dom_classes": [],
            "description": "",
            "_model_name": "FloatProgressModel",
            "bar_style": "success",
            "max": 170498071,
            "_view_module": "@jupyter-widgets/controls",
            "_model_module_version": "1.5.0",
            "value": 170498071,
            "_view_count": null,
            "_view_module_version": "1.5.0",
            "orientation": "horizontal",
            "min": 0,
            "description_tooltip": null,
            "_model_module": "@jupyter-widgets/controls",
            "layout": "IPY_MODEL_0bd11889da5f4d51a8d077d727bd58c6"
          }
        },
        "158d271338504ab0988bd117f2f90c78": {
          "model_module": "@jupyter-widgets/controls",
          "model_name": "HTMLModel",
          "model_module_version": "1.5.0",
          "state": {
            "_view_name": "HTMLView",
            "style": "IPY_MODEL_5fa25b9cd4a64ce4a526d5268a9b1b18",
            "_dom_classes": [],
            "description": "",
            "_model_name": "HTMLModel",
            "placeholder": "​",
            "_view_module": "@jupyter-widgets/controls",
            "_model_module_version": "1.5.0",
            "value": " 170499072/? [00:03&lt;00:00, 54650618.21it/s]",
            "_view_count": null,
            "_view_module_version": "1.5.0",
            "description_tooltip": null,
            "_model_module": "@jupyter-widgets/controls",
            "layout": "IPY_MODEL_30c334a597664095bf96cfa861b433d3"
          }
        },
        "b7ce274414c745b49f631ff5419fa725": {
          "model_module": "@jupyter-widgets/controls",
          "model_name": "DescriptionStyleModel",
          "model_module_version": "1.5.0",
          "state": {
            "_view_name": "StyleView",
            "_model_name": "DescriptionStyleModel",
            "description_width": "",
            "_view_module": "@jupyter-widgets/base",
            "_model_module_version": "1.5.0",
            "_view_count": null,
            "_view_module_version": "1.2.0",
            "_model_module": "@jupyter-widgets/controls"
          }
        },
        "2acfdb2284944b8a917132f18aa7a098": {
          "model_module": "@jupyter-widgets/base",
          "model_name": "LayoutModel",
          "model_module_version": "1.2.0",
          "state": {
            "_view_name": "LayoutView",
            "grid_template_rows": null,
            "right": null,
            "justify_content": null,
            "_view_module": "@jupyter-widgets/base",
            "overflow": null,
            "_model_module_version": "1.2.0",
            "_view_count": null,
            "flex_flow": null,
            "width": null,
            "min_width": null,
            "border": null,
            "align_items": null,
            "bottom": null,
            "_model_module": "@jupyter-widgets/base",
            "top": null,
            "grid_column": null,
            "overflow_y": null,
            "overflow_x": null,
            "grid_auto_flow": null,
            "grid_area": null,
            "grid_template_columns": null,
            "flex": null,
            "_model_name": "LayoutModel",
            "justify_items": null,
            "grid_row": null,
            "max_height": null,
            "align_content": null,
            "visibility": null,
            "align_self": null,
            "height": null,
            "min_height": null,
            "padding": null,
            "grid_auto_rows": null,
            "grid_gap": null,
            "max_width": null,
            "order": null,
            "_view_module_version": "1.2.0",
            "grid_template_areas": null,
            "object_position": null,
            "object_fit": null,
            "grid_auto_columns": null,
            "margin": null,
            "display": null,
            "left": null
          }
        },
        "cd71189a40554055a05bcee506abd47d": {
          "model_module": "@jupyter-widgets/controls",
          "model_name": "ProgressStyleModel",
          "model_module_version": "1.5.0",
          "state": {
            "_view_name": "StyleView",
            "_model_name": "ProgressStyleModel",
            "description_width": "",
            "_view_module": "@jupyter-widgets/base",
            "_model_module_version": "1.5.0",
            "_view_count": null,
            "_view_module_version": "1.2.0",
            "bar_color": null,
            "_model_module": "@jupyter-widgets/controls"
          }
        },
        "0bd11889da5f4d51a8d077d727bd58c6": {
          "model_module": "@jupyter-widgets/base",
          "model_name": "LayoutModel",
          "model_module_version": "1.2.0",
          "state": {
            "_view_name": "LayoutView",
            "grid_template_rows": null,
            "right": null,
            "justify_content": null,
            "_view_module": "@jupyter-widgets/base",
            "overflow": null,
            "_model_module_version": "1.2.0",
            "_view_count": null,
            "flex_flow": null,
            "width": null,
            "min_width": null,
            "border": null,
            "align_items": null,
            "bottom": null,
            "_model_module": "@jupyter-widgets/base",
            "top": null,
            "grid_column": null,
            "overflow_y": null,
            "overflow_x": null,
            "grid_auto_flow": null,
            "grid_area": null,
            "grid_template_columns": null,
            "flex": null,
            "_model_name": "LayoutModel",
            "justify_items": null,
            "grid_row": null,
            "max_height": null,
            "align_content": null,
            "visibility": null,
            "align_self": null,
            "height": null,
            "min_height": null,
            "padding": null,
            "grid_auto_rows": null,
            "grid_gap": null,
            "max_width": null,
            "order": null,
            "_view_module_version": "1.2.0",
            "grid_template_areas": null,
            "object_position": null,
            "object_fit": null,
            "grid_auto_columns": null,
            "margin": null,
            "display": null,
            "left": null
          }
        },
        "5fa25b9cd4a64ce4a526d5268a9b1b18": {
          "model_module": "@jupyter-widgets/controls",
          "model_name": "DescriptionStyleModel",
          "model_module_version": "1.5.0",
          "state": {
            "_view_name": "StyleView",
            "_model_name": "DescriptionStyleModel",
            "description_width": "",
            "_view_module": "@jupyter-widgets/base",
            "_model_module_version": "1.5.0",
            "_view_count": null,
            "_view_module_version": "1.2.0",
            "_model_module": "@jupyter-widgets/controls"
          }
        },
        "30c334a597664095bf96cfa861b433d3": {
          "model_module": "@jupyter-widgets/base",
          "model_name": "LayoutModel",
          "model_module_version": "1.2.0",
          "state": {
            "_view_name": "LayoutView",
            "grid_template_rows": null,
            "right": null,
            "justify_content": null,
            "_view_module": "@jupyter-widgets/base",
            "overflow": null,
            "_model_module_version": "1.2.0",
            "_view_count": null,
            "flex_flow": null,
            "width": null,
            "min_width": null,
            "border": null,
            "align_items": null,
            "bottom": null,
            "_model_module": "@jupyter-widgets/base",
            "top": null,
            "grid_column": null,
            "overflow_y": null,
            "overflow_x": null,
            "grid_auto_flow": null,
            "grid_area": null,
            "grid_template_columns": null,
            "flex": null,
            "_model_name": "LayoutModel",
            "justify_items": null,
            "grid_row": null,
            "max_height": null,
            "align_content": null,
            "visibility": null,
            "align_self": null,
            "height": null,
            "min_height": null,
            "padding": null,
            "grid_auto_rows": null,
            "grid_gap": null,
            "max_width": null,
            "order": null,
            "_view_module_version": "1.2.0",
            "grid_template_areas": null,
            "object_position": null,
            "object_fit": null,
            "grid_auto_columns": null,
            "margin": null,
            "display": null,
            "left": null
          }
        }
      }
    },
    "accelerator": "GPU"
  },
  "cells": [
    {
      "cell_type": "markdown",
      "metadata": {
        "id": "view-in-github",
        "colab_type": "text"
      },
      "source": [
        "<a href=\"https://colab.research.google.com/github/chen320/ModelTest/blob/main/ResNetTest.ipynb\" target=\"_parent\"><img src=\"https://colab.research.google.com/assets/colab-badge.svg\" alt=\"Open In Colab\"/></a>"
      ]
    },
    {
      "cell_type": "code",
      "metadata": {
        "colab": {
          "base_uri": "https://localhost:8080/"
        },
        "id": "hPVaysIutuTx",
        "outputId": "823b4562-e07d-4cae-eed8-0a03f2281011"
      },
      "source": [
        "from google.colab import drive\n",
        "drive.mount(\"/content/drive\")"
      ],
      "execution_count": 1,
      "outputs": [
        {
          "output_type": "stream",
          "name": "stdout",
          "text": [
            "Mounted at /content/drive\n"
          ]
        }
      ]
    },
    {
      "cell_type": "code",
      "metadata": {
        "id": "_hV_X60Ntw-A"
      },
      "source": [
        "import sys\n",
        "sys.path.append(\"/content/drive/MyDrive/Colab Notebooks/Model Test\")"
      ],
      "execution_count": 3,
      "outputs": []
    },
    {
      "cell_type": "code",
      "metadata": {
        "id": "WEvrY4E7t9--"
      },
      "source": [
        "import torchvision\n",
        "import torch\n",
        "from torch import nn\n",
        "from torch.utils.data import DataLoader\n",
        "from torchvision import transforms\n",
        "import time\n",
        "\n",
        "from torchvision import models"
      ],
      "execution_count": 4,
      "outputs": []
    },
    {
      "cell_type": "code",
      "metadata": {
        "id": "Kgb3AGvBuK30"
      },
      "source": [
        "import os\n",
        "os.environ['CUDA_VISIBLE_DEVICES'] = '0'"
      ],
      "execution_count": 5,
      "outputs": []
    },
    {
      "cell_type": "code",
      "metadata": {
        "id": "u2UZW_5BuQKJ"
      },
      "source": [
        "import torchvision.models.resnet\n",
        "model = torchvision.models.resnet101()"
      ],
      "execution_count": 6,
      "outputs": []
    },
    {
      "cell_type": "code",
      "metadata": {
        "id": "TbpuyIQ-uWzx"
      },
      "source": [
        "# print(model)"
      ],
      "execution_count": null,
      "outputs": []
    },
    {
      "cell_type": "code",
      "metadata": {
        "id": "RcA7BvwaucXk",
        "colab": {
          "base_uri": "https://localhost:8080/",
          "height": 101,
          "referenced_widgets": [
            "e203f4f8d4074782817e815bd54b712c",
            "ab25570808fc4f64acc0dafec30b0550",
            "7bf3145a588e4c98b5917ce73d26ebd6",
            "89bf8455ca134f53b80625c201684ee8",
            "158d271338504ab0988bd117f2f90c78",
            "b7ce274414c745b49f631ff5419fa725",
            "2acfdb2284944b8a917132f18aa7a098",
            "cd71189a40554055a05bcee506abd47d",
            "0bd11889da5f4d51a8d077d727bd58c6",
            "5fa25b9cd4a64ce4a526d5268a9b1b18",
            "30c334a597664095bf96cfa861b433d3"
          ]
        },
        "outputId": "e5fc3961-0afd-406f-8470-55eaec1a59d3"
      },
      "source": [
        "train_datasets = torchvision.datasets.CIFAR10(\n",
        "    root = r'../data',\n",
        "    download=True,\n",
        "    train=True,\n",
        "    transform=transforms.ToTensor()\n",
        ")\n",
        "train_dataloader= DataLoader(\n",
        "    dataset=train_datasets,\n",
        "    batch_size=64\n",
        ")\n",
        "\n",
        "test_datasets = torchvision.datasets.CIFAR10(\n",
        "    root = r'../data',\n",
        "    train=False,\n",
        "    download=True,\n",
        "    transform=transforms.ToTensor()\n",
        ")\n",
        "test_dataloader = DataLoader(\n",
        "    dataset=test_datasets,\n",
        "    batch_size=64\n",
        ")"
      ],
      "execution_count": 7,
      "outputs": [
        {
          "output_type": "stream",
          "name": "stdout",
          "text": [
            "Downloading https://www.cs.toronto.edu/~kriz/cifar-10-python.tar.gz to ../data/cifar-10-python.tar.gz\n"
          ]
        },
        {
          "output_type": "display_data",
          "data": {
            "application/vnd.jupyter.widget-view+json": {
              "model_id": "e203f4f8d4074782817e815bd54b712c",
              "version_minor": 0,
              "version_major": 2
            },
            "text/plain": [
              "  0%|          | 0/170498071 [00:00<?, ?it/s]"
            ]
          },
          "metadata": {}
        },
        {
          "output_type": "stream",
          "name": "stdout",
          "text": [
            "Extracting ../data/cifar-10-python.tar.gz to ../data\n",
            "Files already downloaded and verified\n"
          ]
        }
      ]
    },
    {
      "cell_type": "code",
      "metadata": {
        "colab": {
          "base_uri": "https://localhost:8080/"
        },
        "id": "NTHmFO2BYNPg",
        "outputId": "b94bd389-1634-482f-8f54-f381f8e5ee41"
      },
      "source": [
        "train_datasets"
      ],
      "execution_count": 8,
      "outputs": [
        {
          "output_type": "execute_result",
          "data": {
            "text/plain": [
              "Dataset CIFAR10\n",
              "    Number of datapoints: 50000\n",
              "    Root location: ../data\n",
              "    Split: Train\n",
              "    StandardTransform\n",
              "Transform: ToTensor()"
            ]
          },
          "metadata": {},
          "execution_count": 8
        }
      ]
    },
    {
      "cell_type": "code",
      "metadata": {
        "id": "bAoisTbqudFq",
        "colab": {
          "base_uri": "https://localhost:8080/"
        },
        "outputId": "dea9a0e5-4d36-4faf-f9ff-de1524a4125f"
      },
      "source": [
        "train_datasets_size = len(train_datasets)\n",
        "test_datasets_size = len(test_datasets)\n",
        "print(\"训练集数量为：{}\".format(train_datasets_size))\n",
        "print(\"测试集数量为：{}\".format(test_datasets_size))"
      ],
      "execution_count": 9,
      "outputs": [
        {
          "output_type": "stream",
          "name": "stdout",
          "text": [
            "训练集数量为：50000\n",
            "测试集数量为：10000\n"
          ]
        }
      ]
    },
    {
      "cell_type": "code",
      "metadata": {
        "id": "4Hd7oracufsK",
        "colab": {
          "base_uri": "https://localhost:8080/"
        },
        "outputId": "8bb9e387-8f09-4ff9-fa2c-64f38e956c92"
      },
      "source": [
        "runing_mode = \"gpu\" # cpu,gpu, gpus\n",
        "if runing_mode == \"gpu\" and torch.cuda.is_available():\n",
        "    print(\"use cuda\")\n",
        "    device = torch.device(\"cuda\")\n",
        "else:\n",
        "    print(\"use cpu\")\n",
        "    device = torch.device(\"cpu\")"
      ],
      "execution_count": 10,
      "outputs": [
        {
          "output_type": "stream",
          "name": "stdout",
          "text": [
            "use cuda\n"
          ]
        }
      ]
    },
    {
      "cell_type": "code",
      "source": [
        "if torch.cuda.is_available():\n",
        "    model.cuda()"
      ],
      "metadata": {
        "id": "6PUHhfD6BUzL"
      },
      "execution_count": 11,
      "outputs": []
    },
    {
      "cell_type": "code",
      "metadata": {
        "id": "RFDzmtrQuh0R"
      },
      "source": [
        "loss_fn = nn.CrossEntropyLoss()\n",
        "loss_fn.to(device)\n",
        "learning_rate = 1e-2\n",
        "optim = torch.optim.SGD(model.parameters(), lr=learning_rate)"
      ],
      "execution_count": 12,
      "outputs": []
    },
    {
      "cell_type": "code",
      "metadata": {
        "id": "w1R2M1G4NxWY"
      },
      "source": [
        ""
      ],
      "execution_count": null,
      "outputs": []
    },
    {
      "cell_type": "code",
      "metadata": {
        "id": "TbirHh6sukLT",
        "colab": {
          "base_uri": "https://localhost:8080/"
        },
        "outputId": "fa35a70d-8c0a-4ed4-89f4-3a2ffa72ae40"
      },
      "source": [
        "epoch = 9\n",
        "train_step, test_step = 0, 0\n",
        "for i in range(epoch):\n",
        "    print(\"~~~~~~~~~~~~第{}轮训练开始~~~~~~~~~~~\".format(i+1))\n",
        "    start = time.time()\n",
        "    model.train()\n",
        "    for data in train_dataloader:\n",
        "        imgs, targets = data\n",
        "        imgs, targets = imgs.to(device), targets.to(device)\n",
        "        output = model(imgs)\n",
        "        loss = loss_fn(output, targets)\n",
        "\n",
        "        optim.zero_grad()\n",
        "        loss.backward()\n",
        "        optim.step()\n",
        "\n",
        "        train_step += 1\n",
        "        if train_step % 200 == 0:\n",
        "            print(\"第{}次训练，loss={:.3f}\".format(train_step, loss.item()))\n",
        "    #\n",
        "    model.eval()\n",
        "    with torch.no_grad():\n",
        "        test_loss, true_num = 0, 0\n",
        "        for data in test_dataloader:\n",
        "            imgs, targets = data\n",
        "            imgs, targets = imgs.to(device), targets.to(device)\n",
        "            output = model(imgs)\n",
        "            test_loss += loss_fn(output, targets)\n",
        "            true_num += (output.argmax(1) == targets).sum()\n",
        "    end = time.time()\n",
        "    print(\"第{}轮测试集上的loss:{:.3f}, 正确率为:{:.3f}%,耗时:{:.3f}\".format(test_step+1, test_loss.item(), 100 * true_num / test_datasets_size, end-start))\n",
        "    test_step += 1"
      ],
      "execution_count": 16,
      "outputs": [
        {
          "output_type": "stream",
          "name": "stdout",
          "text": [
            "~~~~~~~~~~~~第1轮训练开始~~~~~~~~~~~\n",
            "第200次训练，loss=1.617\n",
            "第400次训练，loss=1.291\n",
            "第600次训练，loss=1.335\n",
            "第1轮测试集上的loss:265.950, 正确率为:42.930%,耗时:283.532\n",
            "~~~~~~~~~~~~第2轮训练开始~~~~~~~~~~~\n",
            "第800次训练，loss=1.133\n",
            "第1000次训练，loss=1.237\n",
            "第1200次训练，loss=1.061\n",
            "第1400次训练，loss=1.109\n",
            "第2轮测试集上的loss:259.254, 正确率为:45.050%,耗时:282.619\n",
            "~~~~~~~~~~~~第3轮训练开始~~~~~~~~~~~\n",
            "第1600次训练，loss=1.084\n",
            "第1800次训练，loss=1.071\n",
            "第2000次训练，loss=1.269\n",
            "第2200次训练，loss=0.860\n",
            "第3轮测试集上的loss:245.225, 正确率为:48.710%,耗时:282.739\n",
            "~~~~~~~~~~~~第4轮训练开始~~~~~~~~~~~\n",
            "第2400次训练，loss=1.081\n",
            "第2600次训练，loss=0.890\n",
            "第2800次训练，loss=0.812\n",
            "第3000次训练，loss=0.840\n",
            "第4轮测试集上的loss:247.199, 正确率为:50.020%,耗时:282.980\n",
            "~~~~~~~~~~~~第5轮训练开始~~~~~~~~~~~\n",
            "第3200次训练，loss=0.735\n",
            "第3400次训练，loss=1.084\n",
            "第3600次训练，loss=0.953\n",
            "第3800次训练，loss=0.816\n",
            "第5轮测试集上的loss:267.396, 正确率为:50.590%,耗时:282.953\n",
            "~~~~~~~~~~~~第6轮训练开始~~~~~~~~~~~\n",
            "第4000次训练，loss=0.916\n",
            "第4200次训练，loss=0.720\n",
            "第4400次训练，loss=0.603\n",
            "第4600次训练，loss=0.819\n",
            "第6轮测试集上的loss:283.073, 正确率为:48.180%,耗时:282.705\n",
            "~~~~~~~~~~~~第7轮训练开始~~~~~~~~~~~\n",
            "第4800次训练，loss=0.799\n",
            "第5000次训练，loss=0.846\n",
            "第5200次训练，loss=0.771\n",
            "第5400次训练，loss=0.603\n",
            "第7轮测试集上的loss:319.161, 正确率为:48.400%,耗时:282.595\n",
            "~~~~~~~~~~~~第8轮训练开始~~~~~~~~~~~\n",
            "第5600次训练，loss=0.974\n",
            "第5800次训练，loss=0.611\n",
            "第6000次训练，loss=0.617\n",
            "第6200次训练，loss=0.559\n",
            "第8轮测试集上的loss:310.222, 正确率为:49.510%,耗时:282.648\n",
            "~~~~~~~~~~~~第9轮训练开始~~~~~~~~~~~\n",
            "第6400次训练，loss=0.531\n",
            "第6600次训练，loss=0.396\n",
            "第6800次训练，loss=0.563\n",
            "第7000次训练，loss=0.411\n",
            "第9轮测试集上的loss:313.896, 正确率为:51.160%,耗时:282.647\n"
          ]
        }
      ]
    }
  ]
}