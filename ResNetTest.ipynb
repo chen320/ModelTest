{
  "nbformat": 4,
  "nbformat_minor": 0,
  "metadata": {
    "colab": {
      "name": "ResNetTest.ipynb",
      "provenance": [],
      "collapsed_sections": [],
      "include_colab_link": true
    },
    "kernelspec": {
      "name": "python3",
      "display_name": "Python 3"
    },
    "language_info": {
      "name": "python"
    },
    "accelerator": "GPU"
  },
  "cells": [
    {
      "cell_type": "markdown",
      "metadata": {
        "id": "view-in-github",
        "colab_type": "text"
      },
      "source": [
        "<a href=\"https://colab.research.google.com/github/aliceding0924/ModelTest/blob/main/ResNetTest.ipynb\" target=\"_parent\"><img src=\"https://colab.research.google.com/assets/colab-badge.svg\" alt=\"Open In Colab\"/></a>"
      ]
    },
    {
      "cell_type": "code",
      "metadata": {
        "colab": {
          "base_uri": "https://localhost:8080/"
        },
        "id": "hPVaysIutuTx",
        "outputId": "4159980e-a5e4-4770-c6d9-4bcea38fdd05"
      },
      "source": [
        "from google.colab import drive\n",
        "drive.mount(\"/content/drive\")"
      ],
      "execution_count": 1,
      "outputs": [
        {
          "output_type": "stream",
          "name": "stdout",
          "text": [
            "Mounted at /content/drive\n"
          ]
        }
      ]
    },
    {
      "cell_type": "code",
      "metadata": {
        "id": "_hV_X60Ntw-A"
      },
      "source": [
        "import sys\n",
        "sys.path.append(\"/content/drive/MyDrive/Colab Notebooks/Model Test\")"
      ],
      "execution_count": 2,
      "outputs": []
    },
    {
      "cell_type": "code",
      "metadata": {
        "id": "WEvrY4E7t9--"
      },
      "source": [
        "import torchvision\n",
        "import torch\n",
        "from torch import nn\n",
        "from torch.utils.data import DataLoader\n",
        "from torchvision import transforms\n",
        "import time\n",
        "\n",
        "from torchvision import models"
      ],
      "execution_count": 3,
      "outputs": []
    },
    {
      "cell_type": "code",
      "metadata": {
        "id": "Kgb3AGvBuK30"
      },
      "source": [
        "import os\n",
        "os.environ['CUDA_VISIBLE_DEVICES'] = '0'"
      ],
      "execution_count": 4,
      "outputs": []
    },
    {
      "cell_type": "code",
      "metadata": {
        "id": "u2UZW_5BuQKJ"
      },
      "source": [
        "import torchvision.models.resnet\n",
        "model = torchvision.models.resnet101()"
      ],
      "execution_count": 5,
      "outputs": []
    },
    {
      "cell_type": "code",
      "metadata": {
        "id": "TbpuyIQ-uWzx"
      },
      "source": [
        "# print(model)"
      ],
      "execution_count": 6,
      "outputs": []
    },
    {
      "cell_type": "code",
      "metadata": {
        "id": "RcA7BvwaucXk",
        "colab": {
          "base_uri": "https://localhost:8080/"
        },
        "outputId": "96f7c577-eb0a-401e-f2ad-a03b2c25d6c5"
      },
      "source": [
        "train_datasets = torchvision.datasets.CIFAR10(\n",
        "    root = r'../data',\n",
        "    download=True,\n",
        "    train=True,\n",
        "    transform=transforms.ToTensor()\n",
        ")\n",
        "train_dataloader= DataLoader(\n",
        "    dataset=train_datasets,\n",
        "    batch_size=64\n",
        ")\n",
        "\n",
        "test_datasets = torchvision.datasets.CIFAR10(\n",
        "    root = r'../data',\n",
        "    train=False,\n",
        "    download=True,\n",
        "    transform=transforms.ToTensor()\n",
        ")\n",
        "test_dataloader = DataLoader(\n",
        "    dataset=test_datasets,\n",
        "    batch_size=64\n",
        ")"
      ],
      "execution_count": 15,
      "outputs": [
        {
          "output_type": "stream",
          "name": "stdout",
          "text": [
            "Files already downloaded and verified\n",
            "Files already downloaded and verified\n"
          ]
        }
      ]
    },
    {
      "cell_type": "code",
      "metadata": {
        "colab": {
          "base_uri": "https://localhost:8080/"
        },
        "id": "NTHmFO2BYNPg",
        "outputId": "8a7971fd-48e7-4103-8ba6-fcc07042ed10"
      },
      "source": [
        "train_datasets"
      ],
      "execution_count": 16,
      "outputs": [
        {
          "output_type": "execute_result",
          "data": {
            "text/plain": [
              "Dataset CIFAR10\n",
              "    Number of datapoints: 50000\n",
              "    Root location: ../data\n",
              "    Split: Train\n",
              "    StandardTransform\n",
              "Transform: ToTensor()"
            ]
          },
          "metadata": {},
          "execution_count": 16
        }
      ]
    },
    {
      "cell_type": "code",
      "metadata": {
        "id": "bAoisTbqudFq",
        "colab": {
          "base_uri": "https://localhost:8080/"
        },
        "outputId": "f5d64c00-232a-4500-c3fe-afd3f9daf844"
      },
      "source": [
        "train_datasets_size = len(train_datasets)\n",
        "test_datasets_size = len(test_datasets)\n",
        "print(\"训练集数量为：{}\".format(train_datasets_size))\n",
        "print(\"测试集数量为：{}\".format(test_datasets_size))"
      ],
      "execution_count": 17,
      "outputs": [
        {
          "output_type": "stream",
          "name": "stdout",
          "text": [
            "训练集数量为：50000\n",
            "测试集数量为：10000\n"
          ]
        }
      ]
    },
    {
      "cell_type": "code",
      "metadata": {
        "id": "4Hd7oracufsK",
        "colab": {
          "base_uri": "https://localhost:8080/"
        },
        "outputId": "0347c018-93f5-4e06-c8c1-6441543b942e"
      },
      "source": [
        "runing_mode = \"gpu\" # cpu,gpu, gpus\n",
        "if runing_mode == \"gpu\" and torch.cuda.is_available():\n",
        "    print(\"use cuda\")\n",
        "    device = torch.device(\"cuda\")\n",
        "else:\n",
        "    print(\"use cpu\")\n",
        "    device = torch.device(\"cpu\")"
      ],
      "execution_count": 18,
      "outputs": [
        {
          "output_type": "stream",
          "name": "stdout",
          "text": [
            "use cuda\n"
          ]
        }
      ]
    },
    {
      "cell_type": "code",
      "metadata": {
        "id": "qIAXQIxd4e1g"
      },
      "source": [
        "if torch.cuda.is_available():\n",
        "    model.cuda()"
      ],
      "execution_count": 19,
      "outputs": []
    },
    {
      "cell_type": "code",
      "metadata": {
        "id": "RFDzmtrQuh0R"
      },
      "source": [
        "loss_fn = nn.CrossEntropyLoss()\n",
        "loss_fn.to(device)\n",
        "learning_rate = 1e-2\n",
        "optim = torch.optim.SGD(model.parameters(), lr=learning_rate)"
      ],
      "execution_count": 20,
      "outputs": []
    },
    {
      "cell_type": "code",
      "metadata": {
        "id": "TbirHh6sukLT",
        "colab": {
          "base_uri": "https://localhost:8080/"
        },
        "outputId": "5028de7a-ea08-4a4a-f520-00ccd6a3df44"
      },
      "source": [
        "epoch = 2\n",
        "train_step, test_step = 0, 0\n",
        "for i in range(epoch):\n",
        "    print(\"~~~~~~~~~~~~第{}轮训练开始~~~~~~~~~~~\".format(i+1))\n",
        "    start = time.time()\n",
        "    model.train()\n",
        "    for data in train_dataloader:\n",
        "        imgs, targets = data\n",
        "        imgs, targets = imgs.to(device), targets.to(device)\n",
        "        output = model(imgs)\n",
        "        loss = loss_fn(output, targets)\n",
        "\n",
        "        optim.zero_grad()\n",
        "        loss.backward()\n",
        "        optim.step()\n",
        "\n",
        "        train_step += 1\n",
        "        if train_step % 200 == 0:\n",
        "            print(\"第{}次训练，loss={:.3f}\".format(train_step, loss.item()))\n",
        "    #\n",
        "    model.eval()\n",
        "    with torch.no_grad():\n",
        "        test_loss, true_num = 0, 0\n",
        "        for data in test_dataloader:\n",
        "            imgs, targets = data\n",
        "            imgs, targets = imgs.to(device), targets.to(device)\n",
        "            output = model(imgs)\n",
        "            test_loss += loss_fn(output, targets)\n",
        "            true_num += (output.argmax(1) == targets).sum()\n",
        "    end = time.time()\n",
        "    print(\"第{}轮测试集上的loss:{:.3f}, 正确率为:{:.3f}%,耗时:{:.3f}\".format(test_step+1, test_loss.item(), 100 * true_num / test_datasets_size, end-start))\n",
        "    test_step += 1"
      ],
      "execution_count": 22,
      "outputs": [
        {
          "output_type": "stream",
          "name": "stdout",
          "text": [
            "~~~~~~~~~~~~第1轮训练开始~~~~~~~~~~~\n",
            "第200次训练，loss=2.758\n",
            "第400次训练，loss=2.437\n",
            "第600次训练，loss=1.815\n",
            "第1轮测试集上的loss:386.034, 正确率为:23.940%,耗时:281.865\n",
            "~~~~~~~~~~~~第2轮训练开始~~~~~~~~~~~\n",
            "第800次训练，loss=1.782\n",
            "第1000次训练，loss=1.622\n",
            "第1200次训练，loss=1.711\n",
            "第1400次训练，loss=1.555\n",
            "第2轮测试集上的loss:324.244, 正确率为:32.250%,耗时:282.274\n"
          ]
        }
      ]
    }
  ]
}